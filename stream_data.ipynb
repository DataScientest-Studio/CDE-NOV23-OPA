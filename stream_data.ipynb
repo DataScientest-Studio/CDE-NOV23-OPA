{
 "cells": [
  {
   "cell_type": "markdown",
   "metadata": {},
   "source": [
    "# OPA Binance Stream"
   ]
  },
  {
   "cell_type": "markdown",
   "metadata": {},
   "source": [
    "## Import"
   ]
  },
  {
   "cell_type": "code",
   "execution_count": 11,
   "metadata": {},
   "outputs": [],
   "source": [
    "# pip install websocket-client\n",
    "\n",
    "import websocket\n",
    "import json\n",
    "from binance.client import Client\n",
    "import xml.etree.ElementTree as ET\n",
    "\n",
    "from datetime import datetime\n",
    "import datetime, time\n",
    "\n",
    "import sqlite3, sqlalchemy\n",
    "\n",
    "# Chargement des modules \"Client\" et \"AscynClient\" du package \"python-binance\"\n",
    "from binance.client import Client, AsyncClient # dans Conda : pip install python-binance\n",
    "# chargement du module pandas\n",
    "import pandas as pd\n"
   ]
  },
  {
   "cell_type": "code",
   "execution_count": 12,
   "metadata": {},
   "outputs": [],
   "source": [
    "# Chemin vers votre fichier XML\n",
    "# chemin_fichier_xml = \"C:/Users/psvt05771/OneDrive - SNCF/Documents/Perso/MasnewS/DataScientest/Projet OPA/SV/Binance_Key.xml\"\n",
    "chemin_fichier_xml = \"./Binance_Key.xml\"\n",
    "\n",
    "\n",
    "# Parsez le fichier XML\n",
    "tree = ET.parse(chemin_fichier_xml)\n",
    "root = tree.getroot()\n",
    "\n",
    "\n",
    "for Binance in root.findall('Binance'):\n",
    "    Binance_Key = Binance.find('api_key').text\n",
    "    Binance_Secret = Binance.find('api_secret').text\n",
    "    "
   ]
  },
  {
   "cell_type": "markdown",
   "metadata": {},
   "source": [
    "## Connexion API Binance\n"
   ]
  },
  {
   "cell_type": "code",
   "execution_count": 13,
   "metadata": {},
   "outputs": [],
   "source": [
    "\n",
    "# Clé et secret pour la connexion à l'API BINANCE\n",
    "api_key = Binance_Key\n",
    "api_secret = Binance_Secret"
   ]
  },
  {
   "cell_type": "code",
   "execution_count": 14,
   "metadata": {},
   "outputs": [],
   "source": [
    " # récupération des clefs privés de connexion API\n",
    "binance_client = Client(api_key, api_secret)"
   ]
  },
  {
   "cell_type": "markdown",
   "metadata": {},
   "source": [
    "## Database"
   ]
  },
  {
   "cell_type": "code",
   "execution_count": 15,
   "metadata": {},
   "outputs": [
    {
     "name": "stdout",
     "output_type": "stream",
     "text": [
      "The sql extension is already loaded. To reload it, use:\n",
      "  %reload_ext sql\n"
     ]
    }
   ],
   "source": [
    "%load_ext sql\n",
    "%config SqlMagic.displaycon = False\n",
    "%config SqlMagic.feedback = False\n",
    "%config SqlMagic.displaylimit = 50\n",
    "%sql sqlite:///opa_database.db"
   ]
  },
  {
   "cell_type": "code",
   "execution_count": 16,
   "metadata": {},
   "outputs": [],
   "source": [
    "from sqlalchemy import Table, Column, Integer, String, ForeignKey, MetaData, create_engine, text, inspect\n",
    "\n",
    "engine = create_engine('sqlite:///opa_database.db', echo= True)\n",
    "conn = engine.connect()"
   ]
  },
  {
   "cell_type": "code",
   "execution_count": 17,
   "metadata": {},
   "outputs": [
    {
     "data": {
      "text/plain": [
       "[]"
      ]
     },
     "execution_count": 17,
     "metadata": {},
     "output_type": "execute_result"
    }
   ],
   "source": [
    "%%sql\n",
    "--Création de la table T_CRYPTO_STREAM\n",
    "drop table if exists T_CRYPTO_STREAM ;"
   ]
  },
  {
   "cell_type": "code",
   "execution_count": 18,
   "metadata": {},
   "outputs": [
    {
     "data": {
      "text/plain": [
       "[]"
      ]
     },
     "execution_count": 18,
     "metadata": {},
     "output_type": "execute_result"
    }
   ],
   "source": [
    "%%sql\n",
    "create table if not exists T_CRYPTO_STREAM\n",
    "    (\n",
    "          symbol                varchar(10)   not null\n",
    "        , price                 float         not null\n",
    "        , quantity              int           not null\n",
    "        , time                  timestamp     not null\n",
    "        , primary key(symbol, time)\n",
    "    );"
   ]
  },
  {
   "cell_type": "markdown",
   "metadata": {},
   "source": [
    "## stream"
   ]
  },
  {
   "cell_type": "code",
   "execution_count": 19,
   "metadata": {},
   "outputs": [],
   "source": [
    "import json\n",
    "import websocket\n",
    "import datetime\n",
    "\n",
    "def ws_trades(symbol): \n",
    "    socket = f'wss://stream.binance.com:9443/ws/{symbol}@trade'\n",
    "    # print(socket)\n",
    "    # socket_ethusdt = f'wss://stream.binance.com:9443/ws/ethusdt@trade'\n",
    "    def on_message(wsapp,message):  \n",
    "        json_message = json.loads(message)\n",
    "        handle_trades(json_message)\n",
    "        # return test\n",
    "\n",
    "    def on_error(wsapp,error):\n",
    "        print(error)\n",
    "    \n",
    "    def on_close(ws):\n",
    "        # df = pd.DataFrame(test,columns=['Symbol','price'])\n",
    "        # df.to_sql('T_CRYPTO_STREAM',con=engine,if_exists='replace', index=False)\n",
    "        print(\"Close connection\")\n",
    "\n",
    "    wsapp = websocket.WebSocketApp(socket, on_message=on_message, on_error=on_error)\n",
    "    wsapp.run_forever()\n",
    "    \n",
    "def handle_trades(json_message, arr_Symb=[],arr_price=[],arr_datetime=[], arr_qty= []):\n",
    "    date_time = datetime.datetime.fromtimestamp(json_message['E']/1000).strftime('%Y-%m-%d %H:%M:%S')\n",
    "    # print(\"SYMBOL: \"+json_message['s'])\n",
    "    # print(\"PRICE: \"+json_message['p'])\n",
    "    # print(\"QTY: \"+json_message['q'])\n",
    "    # print(\"TIMESTAMP: \" + str(date_time))\n",
    "    # print(\"-----------------------\")\n",
    "    \n",
    "    # Ajout dans un dataframe\n",
    "    # data_arr = list(json_message['s'],json_message['p'],json_message['q'], date_time)\n",
    "    # arr_Symb = []\n",
    "    # arr_price = []\n",
    "    arr_Symb.append(json_message['s'])\n",
    "    arr_price.append(json_message['p'])\n",
    "    arr_datetime.append(date_time)\n",
    "    arr_qty.append(json_message['q'])\n",
    "    # print(arr_Symb)\n",
    "    # print(arr_price)\n",
    "    # print(arr_datetime)\n",
    "\n",
    "    # data_arr.append(list(zip(arr_Symb, arr_price)))\n",
    "\n",
    "    # print(data_arr)\n",
    "    # df = pd.DataFrame(data_arr,columns=['Symbol', 'price','Qty','time'])\n",
    "    # df = pd.DataFrame(data_arr,columns=['Symbol','price'])\n",
    "    # return data_arr\n",
    "    # print(df)\n",
    "    \n",
    "    # print(len(arr_Symb))\n",
    "    if len(arr_Symb) == 10 :\n",
    "        # print('ok')\n",
    "        data_arr = list(zip(arr_Symb, arr_price,arr_qty,arr_datetime))\n",
    "        arr_Symb.clear()\n",
    "        arr_price.clear()\n",
    "        arr_datetime.clear()\n",
    "        arr_qty.clear()\n",
    "        df = pd.DataFrame(data_arr,columns=['Symbol','price','quantity','time'])\n",
    "        df.to_sql('T_CRYPTO_STREAM',con=engine,if_exists='append', index=False)\n",
    "\n",
    "\n",
    "    # ajout DB\n",
    "    # df.to_sql('T_CRYPTO_STREAM',con=engine,if_exists='replace', index=False)\n",
    "    # print(\"added data to database\")"
   ]
  },
  {
   "cell_type": "code",
   "execution_count": 20,
   "metadata": {},
   "outputs": [
    {
     "name": "stdout",
     "output_type": "stream",
     "text": [
      "[WinError 10054] Une connexion existante a dû être fermée par l’hôte distant\n"
     ]
    }
   ],
   "source": [
    "# Symbol : ethusdt, btcusdt, solusdt, bnbusdt\n",
    "ws_trades('btcusdt')"
   ]
  },
  {
   "cell_type": "code",
   "execution_count": 12,
   "metadata": {},
   "outputs": [
    {
     "data": {
      "text/html": [
       "<table>\n",
       "    <thead>\n",
       "        <tr>\n",
       "            <th>symbol</th>\n",
       "            <th>price</th>\n",
       "            <th>quantity</th>\n",
       "            <th>time</th>\n",
       "        </tr>\n",
       "    </thead>\n",
       "    <tbody>\n",
       "        <tr>\n",
       "            <td>BTCUSDT</td>\n",
       "            <td>69452.0</td>\n",
       "            <td>7e-05</td>\n",
       "            <td>2024-05-21 21:39:43</td>\n",
       "        </tr>\n",
       "        <tr>\n",
       "            <td>BTCUSDT</td>\n",
       "            <td>69451.99</td>\n",
       "            <td>0.0224</td>\n",
       "            <td>2024-05-21 21:39:44</td>\n",
       "        </tr>\n",
       "        <tr>\n",
       "            <td>BTCUSDT</td>\n",
       "            <td>69441.41</td>\n",
       "            <td>9e-05</td>\n",
       "            <td>2024-05-21 21:39:45</td>\n",
       "        </tr>\n",
       "        <tr>\n",
       "            <td>BTCUSDT</td>\n",
       "            <td>69437.2</td>\n",
       "            <td>0.0133</td>\n",
       "            <td>2024-05-21 21:39:47</td>\n",
       "        </tr>\n",
       "        <tr>\n",
       "            <td>BTCUSDT</td>\n",
       "            <td>69437.2</td>\n",
       "            <td>0.01079</td>\n",
       "            <td>2024-05-21 21:39:48</td>\n",
       "        </tr>\n",
       "        <tr>\n",
       "            <td>BTCUSDT</td>\n",
       "            <td>69437.2</td>\n",
       "            <td>0.01656</td>\n",
       "            <td>2024-05-21 21:39:49</td>\n",
       "        </tr>\n",
       "        <tr>\n",
       "            <td>BTCUSDT</td>\n",
       "            <td>69437.2</td>\n",
       "            <td>0.00419</td>\n",
       "            <td>2024-05-21 21:39:50</td>\n",
       "        </tr>\n",
       "        <tr>\n",
       "            <td>BTCUSDT</td>\n",
       "            <td>69437.2</td>\n",
       "            <td>0.04101</td>\n",
       "            <td>2024-05-21 21:39:51</td>\n",
       "        </tr>\n",
       "        <tr>\n",
       "            <td>BTCUSDT</td>\n",
       "            <td>69437.21</td>\n",
       "            <td>0.00042</td>\n",
       "            <td>2024-05-21 21:39:53</td>\n",
       "        </tr>\n",
       "        <tr>\n",
       "            <td>BTCUSDT</td>\n",
       "            <td>69437.21</td>\n",
       "            <td>9e-05</td>\n",
       "            <td>2024-05-21 21:39:55</td>\n",
       "        </tr>\n",
       "        <tr>\n",
       "            <td>BTCUSDT</td>\n",
       "            <td>69434.01</td>\n",
       "            <td>0.0008</td>\n",
       "            <td>2024-05-21 21:39:57</td>\n",
       "        </tr>\n",
       "        <tr>\n",
       "            <td>BTCUSDT</td>\n",
       "            <td>69434.0</td>\n",
       "            <td>0.06432</td>\n",
       "            <td>2024-05-21 21:39:58</td>\n",
       "        </tr>\n",
       "        <tr>\n",
       "            <td>BTCUSDT</td>\n",
       "            <td>69434.0</td>\n",
       "            <td>0.00572</td>\n",
       "            <td>2024-05-21 21:39:59</td>\n",
       "        </tr>\n",
       "        <tr>\n",
       "            <td>BTCUSDT</td>\n",
       "            <td>69434.01</td>\n",
       "            <td>0.00035</td>\n",
       "            <td>2024-05-21 21:40:00</td>\n",
       "        </tr>\n",
       "        <tr>\n",
       "            <td>BTCUSDT</td>\n",
       "            <td>69434.01</td>\n",
       "            <td>0.00029</td>\n",
       "            <td>2024-05-21 21:40:01</td>\n",
       "        </tr>\n",
       "        <tr>\n",
       "            <td>BTCUSDT</td>\n",
       "            <td>69434.01</td>\n",
       "            <td>0.00413</td>\n",
       "            <td>2024-05-21 21:40:03</td>\n",
       "        </tr>\n",
       "        <tr>\n",
       "            <td>BTCUSDT</td>\n",
       "            <td>69434.0</td>\n",
       "            <td>0.00018</td>\n",
       "            <td>2024-05-21 21:40:05</td>\n",
       "        </tr>\n",
       "        <tr>\n",
       "            <td>BTCUSDT</td>\n",
       "            <td>69419.06</td>\n",
       "            <td>0.01412</td>\n",
       "            <td>2024-05-21 21:40:06</td>\n",
       "        </tr>\n",
       "        <tr>\n",
       "            <td>BTCUSDT</td>\n",
       "            <td>69407.0</td>\n",
       "            <td>0.08404</td>\n",
       "            <td>2024-05-21 21:40:07</td>\n",
       "        </tr>\n",
       "        <tr>\n",
       "            <td>BTCUSDT</td>\n",
       "            <td>69400.0</td>\n",
       "            <td>0.0036</td>\n",
       "            <td>2024-05-21 21:40:08</td>\n",
       "        </tr>\n",
       "    </tbody>\n",
       "</table>"
      ],
      "text/plain": [
       "[('BTCUSDT', 69452.0, 7e-05, '2024-05-21 21:39:43'),\n",
       " ('BTCUSDT', 69451.99, 0.0224, '2024-05-21 21:39:44'),\n",
       " ('BTCUSDT', 69441.41, 9e-05, '2024-05-21 21:39:45'),\n",
       " ('BTCUSDT', 69437.2, 0.0133, '2024-05-21 21:39:47'),\n",
       " ('BTCUSDT', 69437.2, 0.01079, '2024-05-21 21:39:48'),\n",
       " ('BTCUSDT', 69437.2, 0.01656, '2024-05-21 21:39:49'),\n",
       " ('BTCUSDT', 69437.2, 0.00419, '2024-05-21 21:39:50'),\n",
       " ('BTCUSDT', 69437.2, 0.04101, '2024-05-21 21:39:51'),\n",
       " ('BTCUSDT', 69437.21, 0.00042, '2024-05-21 21:39:53'),\n",
       " ('BTCUSDT', 69437.21, 9e-05, '2024-05-21 21:39:55'),\n",
       " ('BTCUSDT', 69434.01, 0.0008, '2024-05-21 21:39:57'),\n",
       " ('BTCUSDT', 69434.0, 0.06432, '2024-05-21 21:39:58'),\n",
       " ('BTCUSDT', 69434.0, 0.00572, '2024-05-21 21:39:59'),\n",
       " ('BTCUSDT', 69434.01, 0.00035, '2024-05-21 21:40:00'),\n",
       " ('BTCUSDT', 69434.01, 0.00029, '2024-05-21 21:40:01'),\n",
       " ('BTCUSDT', 69434.01, 0.00413, '2024-05-21 21:40:03'),\n",
       " ('BTCUSDT', 69434.0, 0.00018, '2024-05-21 21:40:05'),\n",
       " ('BTCUSDT', 69419.06, 0.01412, '2024-05-21 21:40:06'),\n",
       " ('BTCUSDT', 69407.0, 0.08404, '2024-05-21 21:40:07'),\n",
       " ('BTCUSDT', 69400.0, 0.0036, '2024-05-21 21:40:08')]"
      ]
     },
     "execution_count": 12,
     "metadata": {},
     "output_type": "execute_result"
    }
   ],
   "source": [
    "%%sql\n",
    "SELECT *\n",
    "FROM T_CRYPTO_STREAM"
   ]
  },
  {
   "cell_type": "markdown",
   "metadata": {},
   "source": [
    "### fermeture connexion"
   ]
  },
  {
   "cell_type": "code",
   "execution_count": 21,
   "metadata": {},
   "outputs": [
    {
     "data": {
      "text/plain": [
       "<bound method Engine.dispose of Engine(sqlite:///opa_database.db)>"
      ]
     },
     "execution_count": 21,
     "metadata": {},
     "output_type": "execute_result"
    }
   ],
   "source": [
    "\n",
    "# c.close\n",
    "conn.close\n",
    "engine.dispose"
   ]
  }
 ],
 "metadata": {
  "kernelspec": {
   "display_name": "Python 3",
   "language": "python",
   "name": "python3"
  },
  "language_info": {
   "codemirror_mode": {
    "name": "ipython",
    "version": 3
   },
   "file_extension": ".py",
   "mimetype": "text/x-python",
   "name": "python",
   "nbconvert_exporter": "python",
   "pygments_lexer": "ipython3",
   "version": "3.12.1"
  }
 },
 "nbformat": 4,
 "nbformat_minor": 2
}
